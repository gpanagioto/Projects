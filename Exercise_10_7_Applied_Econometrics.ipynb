{
  "nbformat": 4,
  "nbformat_minor": 0,
  "metadata": {
    "colab": {
      "name": "Exercise 10.7 Applied Econometrics.ipynb",
      "provenance": [],
      "collapsed_sections": [],
      "toc_visible": true
    },
    "kernelspec": {
      "name": "python3",
      "display_name": "Python 3"
    },
    "language_info": {
      "name": "python"
    }
  },
  "cells": [
    {
      "cell_type": "code",
      "metadata": {
        "id": "ZvmYLuKWPp3T"
      },
      "source": [
        "import statistics as st"
      ],
      "execution_count": null,
      "outputs": []
    },
    {
      "cell_type": "code",
      "metadata": {
        "id": "pey_CrchQUuF"
      },
      "source": [
        "import pandas as pd"
      ],
      "execution_count": null,
      "outputs": []
    },
    {
      "cell_type": "code",
      "metadata": {
        "id": "ZNDoMCwTQAZ7"
      },
      "source": [
        "import numpy as np"
      ],
      "execution_count": null,
      "outputs": []
    },
    {
      "cell_type": "code",
      "metadata": {
        "id": "oepscG8QQqK1"
      },
      "source": [
        "df = pd.read_excel(\"/cons_us.xls\")"
      ],
      "execution_count": null,
      "outputs": []
    },
    {
      "cell_type": "code",
      "metadata": {
        "colab": {
          "base_uri": "https://localhost:8080/",
          "height": 1000
        },
        "id": "6GbqA-9R6fjc",
        "outputId": "f5ac6d4d-8b75-4524-f814-2f3740f3a457"
      },
      "source": [
        "df"
      ],
      "execution_count": null,
      "outputs": [
        {
          "output_type": "execute_result",
          "data": {
            "text/html": [
              "<div>\n",
              "<style scoped>\n",
              "    .dataframe tbody tr th:only-of-type {\n",
              "        vertical-align: middle;\n",
              "    }\n",
              "\n",
              "    .dataframe tbody tr th {\n",
              "        vertical-align: top;\n",
              "    }\n",
              "\n",
              "    .dataframe thead th {\n",
              "        text-align: right;\n",
              "    }\n",
              "</style>\n",
              "<table border=\"1\" class=\"dataframe\">\n",
              "  <thead>\n",
              "    <tr style=\"text-align: right;\">\n",
              "      <th></th>\n",
              "      <th>obs</th>\n",
              "      <th>CE</th>\n",
              "      <th>PDI</th>\n",
              "    </tr>\n",
              "  </thead>\n",
              "  <tbody>\n",
              "    <tr>\n",
              "      <th>0</th>\n",
              "      <td>1985Q1</td>\n",
              "      <td>72.823759</td>\n",
              "      <td>0.817916</td>\n",
              "    </tr>\n",
              "    <tr>\n",
              "      <th>1</th>\n",
              "      <td>1985Q2</td>\n",
              "      <td>75.695825</td>\n",
              "      <td>0.849901</td>\n",
              "    </tr>\n",
              "    <tr>\n",
              "      <th>2</th>\n",
              "      <td>1985Q3</td>\n",
              "      <td>80.031250</td>\n",
              "      <td>0.891667</td>\n",
              "    </tr>\n",
              "    <tr>\n",
              "      <th>3</th>\n",
              "      <td>1985Q4</td>\n",
              "      <td>81.237113</td>\n",
              "      <td>0.888660</td>\n",
              "    </tr>\n",
              "    <tr>\n",
              "      <th>4</th>\n",
              "      <td>1986Q1</td>\n",
              "      <td>79.608826</td>\n",
              "      <td>0.883651</td>\n",
              "    </tr>\n",
              "    <tr>\n",
              "      <th>5</th>\n",
              "      <td>1986Q2</td>\n",
              "      <td>83.418891</td>\n",
              "      <td>0.907598</td>\n",
              "    </tr>\n",
              "    <tr>\n",
              "      <th>6</th>\n",
              "      <td>1986Q3</td>\n",
              "      <td>86.712329</td>\n",
              "      <td>0.937829</td>\n",
              "    </tr>\n",
              "    <tr>\n",
              "      <th>7</th>\n",
              "      <td>1986Q4</td>\n",
              "      <td>86.281250</td>\n",
              "      <td>0.937500</td>\n",
              "    </tr>\n",
              "    <tr>\n",
              "      <th>8</th>\n",
              "      <td>1987Q1</td>\n",
              "      <td>86.509927</td>\n",
              "      <td>0.949843</td>\n",
              "    </tr>\n",
              "    <tr>\n",
              "      <th>9</th>\n",
              "      <td>1987Q2</td>\n",
              "      <td>88.417191</td>\n",
              "      <td>0.966457</td>\n",
              "    </tr>\n",
              "    <tr>\n",
              "      <th>10</th>\n",
              "      <td>1987Q3</td>\n",
              "      <td>93.823845</td>\n",
              "      <td>1.007519</td>\n",
              "    </tr>\n",
              "    <tr>\n",
              "      <th>11</th>\n",
              "      <td>1987Q4</td>\n",
              "      <td>94.841102</td>\n",
              "      <td>0.998941</td>\n",
              "    </tr>\n",
              "    <tr>\n",
              "      <th>12</th>\n",
              "      <td>1988Q1</td>\n",
              "      <td>97.524013</td>\n",
              "      <td>1.023479</td>\n",
              "    </tr>\n",
              "    <tr>\n",
              "      <th>13</th>\n",
              "      <td>1988Q2</td>\n",
              "      <td>94.899683</td>\n",
              "      <td>1.024287</td>\n",
              "    </tr>\n",
              "    <tr>\n",
              "      <th>14</th>\n",
              "      <td>1988Q3</td>\n",
              "      <td>96.390346</td>\n",
              "      <td>1.036726</td>\n",
              "    </tr>\n",
              "    <tr>\n",
              "      <th>15</th>\n",
              "      <td>1988Q4</td>\n",
              "      <td>95.228216</td>\n",
              "      <td>1.032158</td>\n",
              "    </tr>\n",
              "    <tr>\n",
              "      <th>16</th>\n",
              "      <td>1989Q1</td>\n",
              "      <td>97.161750</td>\n",
              "      <td>1.017294</td>\n",
              "    </tr>\n",
              "    <tr>\n",
              "      <th>17</th>\n",
              "      <td>1989Q2</td>\n",
              "      <td>95.742380</td>\n",
              "      <td>0.983284</td>\n",
              "    </tr>\n",
              "    <tr>\n",
              "      <th>18</th>\n",
              "      <td>1989Q3</td>\n",
              "      <td>98.492462</td>\n",
              "      <td>1.001005</td>\n",
              "    </tr>\n",
              "    <tr>\n",
              "      <th>19</th>\n",
              "      <td>1989Q4</td>\n",
              "      <td>98.966535</td>\n",
              "      <td>0.983268</td>\n",
              "    </tr>\n",
              "    <tr>\n",
              "      <th>20</th>\n",
              "      <td>1990Q1</td>\n",
              "      <td>100.639135</td>\n",
              "      <td>0.981318</td>\n",
              "    </tr>\n",
              "    <tr>\n",
              "      <th>21</th>\n",
              "      <td>1990Q2</td>\n",
              "      <td>101.692607</td>\n",
              "      <td>0.975681</td>\n",
              "    </tr>\n",
              "    <tr>\n",
              "      <th>22</th>\n",
              "      <td>1990Q3</td>\n",
              "      <td>107.507692</td>\n",
              "      <td>1.033846</td>\n",
              "    </tr>\n",
              "    <tr>\n",
              "      <th>23</th>\n",
              "      <td>1990Q4</td>\n",
              "      <td>108.622449</td>\n",
              "      <td>1.011224</td>\n",
              "    </tr>\n",
              "    <tr>\n",
              "      <th>24</th>\n",
              "      <td>1991Q1</td>\n",
              "      <td>106.775148</td>\n",
              "      <td>0.975345</td>\n",
              "    </tr>\n",
              "    <tr>\n",
              "      <th>25</th>\n",
              "      <td>1991Q2</td>\n",
              "      <td>106.401552</td>\n",
              "      <td>0.960233</td>\n",
              "    </tr>\n",
              "    <tr>\n",
              "      <th>26</th>\n",
              "      <td>1991Q3</td>\n",
              "      <td>113.034623</td>\n",
              "      <td>0.998982</td>\n",
              "    </tr>\n",
              "    <tr>\n",
              "      <th>27</th>\n",
              "      <td>1991Q4</td>\n",
              "      <td>110.316206</td>\n",
              "      <td>0.978261</td>\n",
              "    </tr>\n",
              "    <tr>\n",
              "      <th>28</th>\n",
              "      <td>1992Q1</td>\n",
              "      <td>107.552783</td>\n",
              "      <td>0.939539</td>\n",
              "    </tr>\n",
              "    <tr>\n",
              "      <th>29</th>\n",
              "      <td>1992Q2</td>\n",
              "      <td>109.009615</td>\n",
              "      <td>0.944231</td>\n",
              "    </tr>\n",
              "    <tr>\n",
              "      <th>30</th>\n",
              "      <td>1992Q3</td>\n",
              "      <td>113.591270</td>\n",
              "      <td>0.988095</td>\n",
              "    </tr>\n",
              "    <tr>\n",
              "      <th>31</th>\n",
              "      <td>1992Q4</td>\n",
              "      <td>109.144487</td>\n",
              "      <td>0.944867</td>\n",
              "    </tr>\n",
              "    <tr>\n",
              "      <th>32</th>\n",
              "      <td>1993Q1</td>\n",
              "      <td>104.030521</td>\n",
              "      <td>0.892280</td>\n",
              "    </tr>\n",
              "    <tr>\n",
              "      <th>33</th>\n",
              "      <td>1993Q2</td>\n",
              "      <td>101.072999</td>\n",
              "      <td>0.879507</td>\n",
              "    </tr>\n",
              "    <tr>\n",
              "      <th>34</th>\n",
              "      <td>1993Q3</td>\n",
              "      <td>107.985075</td>\n",
              "      <td>0.946828</td>\n",
              "    </tr>\n",
              "    <tr>\n",
              "      <th>35</th>\n",
              "      <td>1993Q4</td>\n",
              "      <td>110.826211</td>\n",
              "      <td>0.974359</td>\n",
              "    </tr>\n",
              "    <tr>\n",
              "      <th>36</th>\n",
              "      <td>1994Q1</td>\n",
              "      <td>107.738647</td>\n",
              "      <td>0.961075</td>\n",
              "    </tr>\n",
              "    <tr>\n",
              "      <th>37</th>\n",
              "      <td>1994Q2</td>\n",
              "      <td>101.736050</td>\n",
              "      <td>0.926484</td>\n",
              "    </tr>\n",
              "  </tbody>\n",
              "</table>\n",
              "</div>"
            ],
            "text/plain": [
              "       obs          CE       PDI\n",
              "0   1985Q1   72.823759  0.817916\n",
              "1   1985Q2   75.695825  0.849901\n",
              "2   1985Q3   80.031250  0.891667\n",
              "3   1985Q4   81.237113  0.888660\n",
              "4   1986Q1   79.608826  0.883651\n",
              "5   1986Q2   83.418891  0.907598\n",
              "6   1986Q3   86.712329  0.937829\n",
              "7   1986Q4   86.281250  0.937500\n",
              "8   1987Q1   86.509927  0.949843\n",
              "9   1987Q2   88.417191  0.966457\n",
              "10  1987Q3   93.823845  1.007519\n",
              "11  1987Q4   94.841102  0.998941\n",
              "12  1988Q1   97.524013  1.023479\n",
              "13  1988Q2   94.899683  1.024287\n",
              "14  1988Q3   96.390346  1.036726\n",
              "15  1988Q4   95.228216  1.032158\n",
              "16  1989Q1   97.161750  1.017294\n",
              "17  1989Q2   95.742380  0.983284\n",
              "18  1989Q3   98.492462  1.001005\n",
              "19  1989Q4   98.966535  0.983268\n",
              "20  1990Q1  100.639135  0.981318\n",
              "21  1990Q2  101.692607  0.975681\n",
              "22  1990Q3  107.507692  1.033846\n",
              "23  1990Q4  108.622449  1.011224\n",
              "24  1991Q1  106.775148  0.975345\n",
              "25  1991Q2  106.401552  0.960233\n",
              "26  1991Q3  113.034623  0.998982\n",
              "27  1991Q4  110.316206  0.978261\n",
              "28  1992Q1  107.552783  0.939539\n",
              "29  1992Q2  109.009615  0.944231\n",
              "30  1992Q3  113.591270  0.988095\n",
              "31  1992Q4  109.144487  0.944867\n",
              "32  1993Q1  104.030521  0.892280\n",
              "33  1993Q2  101.072999  0.879507\n",
              "34  1993Q3  107.985075  0.946828\n",
              "35  1993Q4  110.826211  0.974359\n",
              "36  1994Q1  107.738647  0.961075\n",
              "37  1994Q2  101.736050  0.926484"
            ]
          },
          "metadata": {
            "tags": []
          },
          "execution_count": 6
        }
      ]
    },
    {
      "cell_type": "code",
      "metadata": {
        "colab": {
          "base_uri": "https://localhost:8080/"
        },
        "id": "CSA4tmes6gla",
        "outputId": "1fca2671-f422-433a-c533-c384c216e6cd"
      },
      "source": [
        "df.info()"
      ],
      "execution_count": null,
      "outputs": [
        {
          "output_type": "stream",
          "text": [
            "<class 'pandas.core.frame.DataFrame'>\n",
            "RangeIndex: 38 entries, 0 to 37\n",
            "Data columns (total 3 columns):\n",
            " #   Column  Non-Null Count  Dtype  \n",
            "---  ------  --------------  -----  \n",
            " 0   obs     38 non-null     object \n",
            " 1   CE      38 non-null     float64\n",
            " 2   PDI     38 non-null     float64\n",
            "dtypes: float64(2), object(1)\n",
            "memory usage: 1.0+ KB\n"
          ],
          "name": "stdout"
        }
      ]
    },
    {
      "cell_type": "code",
      "metadata": {
        "id": "jiO_5_iu8KI7"
      },
      "source": [
        "df.set_index('obs',inplace=True)"
      ],
      "execution_count": null,
      "outputs": []
    },
    {
      "cell_type": "code",
      "metadata": {
        "id": "oDkn8w_08gNj"
      },
      "source": [
        "df['CE-1'] = df['CE'].shift(+1)"
      ],
      "execution_count": null,
      "outputs": []
    },
    {
      "cell_type": "markdown",
      "metadata": {
        "id": "ALLTyzrySgOv"
      },
      "source": [
        "## α) Εκτίμηση Μοντέλου Μερικής Προσαρμογής"
      ]
    },
    {
      "cell_type": "code",
      "metadata": {
        "colab": {
          "base_uri": "https://localhost:8080/"
        },
        "id": "qsI5t-gj8hS_",
        "outputId": "4a60c29d-126f-4864-f7a8-fdb4e77ee544"
      },
      "source": [
        " import statsmodels.api as sm"
      ],
      "execution_count": null,
      "outputs": [
        {
          "output_type": "stream",
          "text": [
            "/usr/local/lib/python3.7/dist-packages/statsmodels/tools/_testing.py:19: FutureWarning: pandas.util.testing is deprecated. Use the functions in the public API at pandas.testing instead.\n",
            "  import pandas.util.testing as tm\n"
          ],
          "name": "stderr"
        }
      ]
    },
    {
      "cell_type": "code",
      "metadata": {
        "id": "VgFnVne2_UBB"
      },
      "source": [
        "df.dropna(inplace=True)"
      ],
      "execution_count": null,
      "outputs": []
    },
    {
      "cell_type": "code",
      "metadata": {
        "id": "M8Hbig_e9DGx"
      },
      "source": [
        "Y = df['CE']"
      ],
      "execution_count": null,
      "outputs": []
    },
    {
      "cell_type": "code",
      "metadata": {
        "id": "jivsZ6Rv-U-L"
      },
      "source": [
        "X = df[['CE-1','PDI']]"
      ],
      "execution_count": null,
      "outputs": []
    },
    {
      "cell_type": "code",
      "metadata": {
        "id": "QqxkMfemACaW"
      },
      "source": [
        "X = sm.add_constant(X)"
      ],
      "execution_count": null,
      "outputs": []
    },
    {
      "cell_type": "code",
      "metadata": {
        "id": "Tkokqh5P-cVZ"
      },
      "source": [
        "model = sm.OLS(Y,X)"
      ],
      "execution_count": null,
      "outputs": []
    },
    {
      "cell_type": "code",
      "metadata": {
        "id": "hOdnEvRS_QjH"
      },
      "source": [
        "results = model.fit()"
      ],
      "execution_count": null,
      "outputs": []
    },
    {
      "cell_type": "code",
      "metadata": {
        "colab": {
          "base_uri": "https://localhost:8080/"
        },
        "id": "BRXZZbq2ATRu",
        "outputId": "2bab9c07-10ae-401f-b0d4-96e096c239ed"
      },
      "source": [
        "print(results.summary())"
      ],
      "execution_count": null,
      "outputs": [
        {
          "output_type": "stream",
          "text": [
            "                            OLS Regression Results                            \n",
            "==============================================================================\n",
            "Dep. Variable:                     CE   R-squared:                       0.931\n",
            "Model:                            OLS   Adj. R-squared:                  0.927\n",
            "Method:                 Least Squares   F-statistic:                     231.1\n",
            "Date:                Wed, 31 Mar 2021   Prob (F-statistic):           1.62e-20\n",
            "Time:                        20:58:51   Log-Likelihood:                -89.262\n",
            "No. Observations:                  37   AIC:                             184.5\n",
            "Df Residuals:                      34   BIC:                             189.4\n",
            "Df Model:                           2                                         \n",
            "Covariance Type:            nonrobust                                         \n",
            "==============================================================================\n",
            "                 coef    std err          t      P>|t|      [0.025      0.975]\n",
            "------------------------------------------------------------------------------\n",
            "const        -10.7420      9.338     -1.150      0.258     -29.719       8.235\n",
            "CE-1           0.8497      0.045     19.095      0.000       0.759       0.940\n",
            "PDI           27.1862     10.275      2.646      0.012       6.304      48.068\n",
            "==============================================================================\n",
            "Omnibus:                        3.798   Durbin-Watson:                   1.623\n",
            "Prob(Omnibus):                  0.150   Jarque-Bera (JB):                2.727\n",
            "Skew:                           0.649   Prob(JB):                        0.256\n",
            "Kurtosis:                       3.293   Cond. No.                     2.87e+03\n",
            "==============================================================================\n",
            "\n",
            "Warnings:\n",
            "[1] Standard Errors assume that the covariance matrix of the errors is correctly specified.\n",
            "[2] The condition number is large, 2.87e+03. This might indicate that there are\n",
            "strong multicollinearity or other numerical problems.\n"
          ],
          "name": "stdout"
        }
      ]
    },
    {
      "cell_type": "markdown",
      "metadata": {
        "id": "reSRMJnRSq28"
      },
      "source": [
        "# β) Ερμηνεία των εκτιμόμενων συντελεστών\n",
        "# γ) Υπολογισμός έμμεσου συντελεστή προσαρμογής"
      ]
    },
    {
      "cell_type": "code",
      "metadata": {
        "colab": {
          "base_uri": "https://localhost:8080/"
        },
        "id": "b2wHatGTAafM",
        "outputId": "51f3203f-c6b6-4468-e730-bc0e82ceca80"
      },
      "source": [
        "results.params"
      ],
      "execution_count": null,
      "outputs": [
        {
          "output_type": "execute_result",
          "data": {
            "text/plain": [
              "const   -10.741967\n",
              "CE-1      0.849750\n",
              "PDI      27.186180\n",
              "dtype: float64"
            ]
          },
          "metadata": {
            "tags": []
          },
          "execution_count": 18
        }
      ]
    },
    {
      "cell_type": "code",
      "metadata": {
        "colab": {
          "base_uri": "https://localhost:8080/"
        },
        "id": "OswMya0QBFbZ",
        "outputId": "4b453ea6-a490-4b86-88d7-6e3c2a073921"
      },
      "source": [
        "results.params['CE-1']"
      ],
      "execution_count": null,
      "outputs": [
        {
          "output_type": "execute_result",
          "data": {
            "text/plain": [
              "0.8497495917738617"
            ]
          },
          "metadata": {
            "tags": []
          },
          "execution_count": 19
        }
      ]
    },
    {
      "cell_type": "code",
      "metadata": {
        "id": "5YQZcBqWBl2u"
      },
      "source": [
        "Lambda = 1 - results.params['CE-1']"
      ],
      "execution_count": null,
      "outputs": []
    },
    {
      "cell_type": "code",
      "metadata": {
        "colab": {
          "base_uri": "https://localhost:8080/"
        },
        "id": "_nlEF6mxBx14",
        "outputId": "12b0fbb7-9683-4f44-c41e-4e19dc00fa6e"
      },
      "source": [
        "Lambda"
      ],
      "execution_count": null,
      "outputs": [
        {
          "output_type": "execute_result",
          "data": {
            "text/plain": [
              "0.15025040822613833"
            ]
          },
          "metadata": {
            "tags": []
          },
          "execution_count": 21
        }
      ]
    },
    {
      "cell_type": "code",
      "metadata": {
        "id": "B0ofDSvDBziP"
      },
      "source": [
        "B1 = results.params['const'] / Lambda"
      ],
      "execution_count": null,
      "outputs": []
    },
    {
      "cell_type": "code",
      "metadata": {
        "colab": {
          "base_uri": "https://localhost:8080/"
        },
        "id": "jzDUKuy_B-aA",
        "outputId": "3925bb19-f599-43b6-a630-fa961733b5d1"
      },
      "source": [
        "B1"
      ],
      "execution_count": null,
      "outputs": [
        {
          "output_type": "execute_result",
          "data": {
            "text/plain": [
              "-71.49376514630963"
            ]
          },
          "metadata": {
            "tags": []
          },
          "execution_count": 23
        }
      ]
    },
    {
      "cell_type": "code",
      "metadata": {
        "id": "leb5vNIoCALk"
      },
      "source": [
        "B2 = results.params['PDI'] / Lambda"
      ],
      "execution_count": null,
      "outputs": []
    },
    {
      "cell_type": "code",
      "metadata": {
        "colab": {
          "base_uri": "https://localhost:8080/"
        },
        "id": "KadqMVeGCOvz",
        "outputId": "46467539-d521-42ff-855c-41a72ebae80f"
      },
      "source": [
        "B2"
      ],
      "execution_count": null,
      "outputs": [
        {
          "output_type": "execute_result",
          "data": {
            "text/plain": [
              "180.939139681254"
            ]
          },
          "metadata": {
            "tags": []
          },
          "execution_count": 25
        }
      ]
    },
    {
      "cell_type": "code",
      "metadata": {
        "id": "xdSDSWddFbU1"
      },
      "source": [
        "time = 1 / Lambda"
      ],
      "execution_count": null,
      "outputs": []
    },
    {
      "cell_type": "code",
      "metadata": {
        "colab": {
          "base_uri": "https://localhost:8080/"
        },
        "id": "Sd98xT5PF8A5",
        "outputId": "04d65ed6-9310-4eda-f01d-df83a98851d6"
      },
      "source": [
        "time"
      ],
      "execution_count": null,
      "outputs": [
        {
          "output_type": "execute_result",
          "data": {
            "text/plain": [
              "6.6555559602535235"
            ]
          },
          "metadata": {
            "tags": []
          },
          "execution_count": 30
        }
      ]
    },
    {
      "cell_type": "markdown",
      "metadata": {
        "id": "i4m4A2GwHYWo"
      },
      "source": [
        ""
      ]
    },
    {
      "cell_type": "markdown",
      "metadata": {
        "id": "F0bw9l4SFcBv"
      },
      "source": [
        "\n",
        "\n",
        "Ο συντελεστής προσαρμογής είναι ο Lambda = 0.15025040822613833 και ο χρόνος προσαρμογής είναι 1/Lambda = 6.6555559602535235. \n",
        "O συντελεστής της Μακροχρόνιας Αντίδραση του CE είναι  Β1 = -71.49376514630963 και η Βραχυχρόνια Αντίδραση του στη μοναδιαία αλλαγή του PDI είναι Β2λ = 27.1862"
      ]
    },
    {
      "cell_type": "markdown",
      "metadata": {
        "id": "mZK3g5asSUzQ"
      },
      "source": [
        "## δ) Έλεγχος h Durbin"
      ]
    },
    {
      "cell_type": "code",
      "metadata": {
        "id": "Vzq92AiMCPhe"
      },
      "source": [
        "from statsmodels.stats.stattools import durbin_watson"
      ],
      "execution_count": null,
      "outputs": []
    },
    {
      "cell_type": "code",
      "metadata": {
        "id": "JgO8jlqPGnxN"
      },
      "source": [
        "import math "
      ],
      "execution_count": null,
      "outputs": []
    },
    {
      "cell_type": "code",
      "metadata": {
        "colab": {
          "base_uri": "https://localhost:8080/"
        },
        "id": "BB4fwDKFDTp3",
        "outputId": "819364c9-6bf6-4b6f-e6a9-2f5733bfc0bd"
      },
      "source": [
        "durbin_watson(results.resid)"
      ],
      "execution_count": null,
      "outputs": [
        {
          "output_type": "execute_result",
          "data": {
            "text/plain": [
              "1.6229827263264076"
            ]
          },
          "metadata": {
            "tags": []
          },
          "execution_count": 33
        }
      ]
    },
    {
      "cell_type": "code",
      "metadata": {
        "colab": {
          "base_uri": "https://localhost:8080/"
        },
        "id": "9W0oTNh6FQhU",
        "outputId": "bb467262-8b07-4a59-8d06-12f23074f0cb"
      },
      "source": [
        "results.bse"
      ],
      "execution_count": null,
      "outputs": [
        {
          "output_type": "execute_result",
          "data": {
            "text/plain": [
              "const     9.338104\n",
              "CE-1      0.044501\n",
              "PDI      10.275342\n",
              "dtype: float64"
            ]
          },
          "metadata": {
            "tags": []
          },
          "execution_count": 34
        }
      ]
    },
    {
      "cell_type": "code",
      "metadata": {
        "colab": {
          "base_uri": "https://localhost:8080/"
        },
        "id": "7fREscp0FmQx",
        "outputId": "903b6740-1157-4f65-ae84-29be8b9849dd"
      },
      "source": [
        "df.shape"
      ],
      "execution_count": null,
      "outputs": [
        {
          "output_type": "execute_result",
          "data": {
            "text/plain": [
              "(37, 3)"
            ]
          },
          "metadata": {
            "tags": []
          },
          "execution_count": 35
        }
      ]
    },
    {
      "cell_type": "code",
      "metadata": {
        "colab": {
          "base_uri": "https://localhost:8080/"
        },
        "id": "riYl7uduFqJj",
        "outputId": "f0063c0e-e43f-4b7e-c596-fe29c9aac5b5"
      },
      "source": [
        "type(len(df))"
      ],
      "execution_count": null,
      "outputs": [
        {
          "output_type": "execute_result",
          "data": {
            "text/plain": [
              "int"
            ]
          },
          "metadata": {
            "tags": []
          },
          "execution_count": 36
        }
      ]
    },
    {
      "cell_type": "code",
      "metadata": {
        "colab": {
          "base_uri": "https://localhost:8080/"
        },
        "id": "pZ5iHiuSHoRc",
        "outputId": "849a3355-b136-44ce-bd64-cfea8b10584d"
      },
      "source": [
        "float(results.bse[1])"
      ],
      "execution_count": null,
      "outputs": [
        {
          "output_type": "execute_result",
          "data": {
            "text/plain": [
              "0.04450148609896932"
            ]
          },
          "metadata": {
            "tags": []
          },
          "execution_count": 37
        }
      ]
    },
    {
      "cell_type": "code",
      "metadata": {
        "id": "eUr9JF1FIPCQ"
      },
      "source": [
        "x = len(df)/(1-(len(df)*float(results.bse[1]**2)))"
      ],
      "execution_count": null,
      "outputs": []
    },
    {
      "cell_type": "code",
      "metadata": {
        "id": "hkWqlxLXDcqT"
      },
      "source": [
        "h = (1-durbin_watson(results.resid)/2)*math.sqrt(x)"
      ],
      "execution_count": null,
      "outputs": []
    },
    {
      "cell_type": "code",
      "metadata": {
        "colab": {
          "base_uri": "https://localhost:8080/"
        },
        "id": "XP1qq6qiGexn",
        "outputId": "10ff1c2a-f42c-42ff-d898-d4f39a4ee23d"
      },
      "source": [
        "h"
      ],
      "execution_count": null,
      "outputs": [
        {
          "output_type": "execute_result",
          "data": {
            "text/plain": [
              "1.1911226272363282"
            ]
          },
          "metadata": {
            "tags": []
          },
          "execution_count": 40
        }
      ]
    },
    {
      "cell_type": "markdown",
      "metadata": {
        "id": "gtTKZCOlJE0c"
      },
      "source": [
        "h-Durbin = 1.1911226272363282\n",
        "To h-Durbin δεν είναι μεγαλύτερο του Ζο.ο5 = 1.96, άρα δέχομαι την H0 και δεν υπάρχει αυτοσυσχέτιση."
      ]
    },
    {
      "cell_type": "markdown",
      "metadata": {
        "id": "oBEXwKt5SwD3"
      },
      "source": [
        "δ) Ο έλεγχος LM"
      ]
    },
    {
      "cell_type": "code",
      "metadata": {
        "id": "kd91bS88IgBI"
      },
      "source": [
        "from tabulate import tabulate"
      ],
      "execution_count": 76,
      "outputs": []
    },
    {
      "cell_type": "code",
      "metadata": {
        "colab": {
          "base_uri": "https://localhost:8080/"
        },
        "id": "s5AgrFeMMOny",
        "outputId": "407b9fee-2e16-4a63-fb7e-45c2e0bf690c"
      },
      "source": [
        "for i in range(1,5):\n",
        "  print(\"\\nnlags = \",i)\n",
        "  print(tabulate([['lm_stat',sm.stats.diagnostic.acorr_breusch_godfrey(results=results,nlags=i,store=False)[0]],[\"lmpval\",sm.stats.diagnostic.acorr_breusch_godfrey(results=results,nlags=i,store=False)[1]],[\"fval\",sm.stats.diagnostic.acorr_breusch_godfrey(results=results,nlags=i,store=False)[2]],[\"fpval\",sm.stats.diagnostic.acorr_breusch_godfrey(results=results,nlags=i,store=False)[3]]], headers=[\"Results\", \"Values\"]))"
      ],
      "execution_count": 78,
      "outputs": [
        {
          "output_type": "stream",
          "text": [
            "\n",
            "nlags =  1\n",
            "Results      Values\n",
            "---------  --------\n",
            "lm_stat    0.996599\n",
            "lmpval     0.318135\n",
            "fval       0.913463\n",
            "fpval      0.346147\n",
            "\n",
            "nlags =  2\n",
            "Results      Values\n",
            "---------  --------\n",
            "lm_stat    3.87245\n",
            "lmpval     0.144247\n",
            "fval       1.87032\n",
            "fpval      0.17053\n",
            "\n",
            "nlags =  3\n",
            "Results      Values\n",
            "---------  --------\n",
            "lm_stat    5.65548\n",
            "lmpval     0.129629\n",
            "fval       1.86444\n",
            "fpval      0.156182\n",
            "\n",
            "nlags =  4\n",
            "Results         Values\n",
            "---------  -----------\n",
            "lm_stat    16.2142\n",
            "lmpval      0.00274475\n",
            "fval        5.85049\n",
            "fpval       0.00132663\n"
          ],
          "name": "stdout"
        }
      ]
    },
    {
      "cell_type": "code",
      "metadata": {
        "id": "e0o75amQQmTQ"
      },
      "source": [
        ""
      ],
      "execution_count": null,
      "outputs": []
    }
  ]
}